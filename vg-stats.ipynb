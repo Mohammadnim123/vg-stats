{
 "metadata": {
  "language_info": {
   "codemirror_mode": {
    "name": "ipython",
    "version": 3
   },
   "file_extension": ".py",
   "mimetype": "text/x-python",
   "name": "python",
   "nbconvert_exporter": "python",
   "pygments_lexer": "ipython3",
   "version": "3.8.5-final"
  },
  "orig_nbformat": 2,
  "kernelspec": {
   "name": "python_defaultSpec_1598907618416",
   "display_name": "Python 3.8.5 64-bit ('.venv': venv)"
  }
 },
 "nbformat": 4,
 "nbformat_minor": 2,
 "cells": [
  {
   "cell_type": "markdown",
   "metadata": {},
   "source": [
    "# Data analysis for Video Game Sales\n"
   ]
  },
  {
   "cell_type": "code",
   "execution_count": 3,
   "metadata": {},
   "outputs": [],
   "source": [
    "import pandas as pd\n",
    "import numpy as np\n",
    "import matplotlib.pyplot as plt\n",
    "%matplotlib inline"
   ]
  },
  {
   "cell_type": "code",
   "execution_count": 4,
   "metadata": {},
   "outputs": [],
   "source": [
    "df = pd.read_csv('vgsales.csv')"
   ]
  },
  {
   "cell_type": "code",
   "execution_count": 15,
   "metadata": {},
   "outputs": [
    {
     "output_type": "execute_result",
     "data": {
      "text/plain": "Index(['Rank', 'Name', 'Platform', 'Year', 'Genre', 'Publisher', 'NA_Sales',\n       'EU_Sales', 'JP_Sales', 'Other_Sales', 'Global_Sales'],\n      dtype='object')"
     },
     "metadata": {},
     "execution_count": 15
    }
   ],
   "source": [
    "df.keys()"
   ]
  },
  {
   "cell_type": "markdown",
   "metadata": {},
   "source": [
    "### Which company is the most common video game publisher?\n"
   ]
  },
  {
   "cell_type": "code",
   "execution_count": 34,
   "metadata": {},
   "outputs": [
    {
     "output_type": "execute_result",
     "data": {
      "text/plain": "'Electronic Arts'"
     },
     "metadata": {},
     "execution_count": 34
    }
   ],
   "source": [
    "most_common_publisher = df['Publisher'].mode()[0]\n",
    "most_common_publisher"
   ]
  },
  {
   "cell_type": "markdown",
   "metadata": {},
   "source": [
    "### What’s the most common platform?\n"
   ]
  },
  {
   "cell_type": "code",
   "execution_count": 20,
   "metadata": {},
   "outputs": [
    {
     "output_type": "execute_result",
     "data": {
      "text/plain": "'DS'"
     },
     "metadata": {},
     "execution_count": 20
    }
   ],
   "source": [
    "df['Platform'].mode()[0]"
   ]
  },
  {
   "cell_type": "markdown",
   "metadata": {},
   "source": [
    "### What about the most common genre?"
   ]
  },
  {
   "cell_type": "code",
   "execution_count": 23,
   "metadata": {},
   "outputs": [
    {
     "output_type": "execute_result",
     "data": {
      "text/plain": "'Action'"
     },
     "metadata": {},
     "execution_count": 23
    }
   ],
   "source": [
    "df['Genre'].mode()[0]"
   ]
  },
  {
   "cell_type": "markdown",
   "metadata": {},
   "source": [
    "### What are the top 20 highest grossing games?"
   ]
  },
  {
   "cell_type": "code",
   "execution_count": 25,
   "metadata": {},
   "outputs": [
    {
     "output_type": "execute_result",
     "data": {
      "text/plain": "0                                       Wii Sports\n1                                Super Mario Bros.\n2                                   Mario Kart Wii\n3                                Wii Sports Resort\n4                         Pokemon Red/Pokemon Blue\n5                                           Tetris\n6                            New Super Mario Bros.\n7                                         Wii Play\n8                        New Super Mario Bros. Wii\n9                                        Duck Hunt\n10                                      Nintendogs\n11                                   Mario Kart DS\n12                     Pokemon Gold/Pokemon Silver\n13                                         Wii Fit\n14                                    Wii Fit Plus\n15                              Kinect Adventures!\n16                              Grand Theft Auto V\n17                   Grand Theft Auto: San Andreas\n18                               Super Mario World\n19    Brain Age: Train Your Brain in Minutes a Day\nName: Name, dtype: object"
     },
     "metadata": {},
     "execution_count": 25
    }
   ],
   "source": [
    "df.sort_values('Global_Sales', ascending=False).head(20)['Name']"
   ]
  },
  {
   "cell_type": "markdown",
   "metadata": {},
   "source": []
  },
  {
   "cell_type": "markdown",
   "metadata": {},
   "source": [
    "### For North American video game sales, what’s the median?"
   ]
  },
  {
   "cell_type": "code",
   "execution_count": 28,
   "metadata": {},
   "outputs": [
    {
     "output_type": "execute_result",
     "data": {
      "text/plain": "0.08"
     },
     "metadata": {},
     "execution_count": 28
    }
   ],
   "source": [
    "median = df['NA_Sales'].median()\n",
    "median "
   ]
  },
  {
   "cell_type": "markdown",
   "metadata": {},
   "source": [
    "### Provide a secondary output showing ten games surrounding the median sales output"
   ]
  },
  {
   "cell_type": "code",
   "execution_count": 63,
   "metadata": {},
   "outputs": [
    {
     "output_type": "execute_result",
     "data": {
      "text/plain": "        Rank                                           Name Platform    Year  \\\n10542  10544                            Capcom vs. SNK 2 EO       XB  2003.0   \n9308    9310             Mary-Kate and Ashley: Crush Course       PS  2001.0   \n10804  10806                              Imagine: Reporter       DS  2010.0   \n10610  10612                                    NBA Live 16     XOne  2015.0   \n10173  10175                                            XXX      GBA  2002.0   \n4069    4071                            Jake Power: Fireman       DS  2008.0   \n11205  11207                            Midnight Play! Pack       DS  2008.0   \n10084  10086                        Batman: Rise of Sin Tzu       XB  2003.0   \n8468    8470  Vehicular Combat League presents Motor Mayhem      PS2  2001.0   \n10042  10044          Tom Clancy's Rainbow Six: Rogue Spear      GBA  2002.0   \n\n            Genre              Publisher  NA_Sales  EU_Sales  JP_Sales  \\\n10542    Fighting                 Capcom      0.08      0.02       0.0   \n9308       Action  Acclaim Entertainment      0.08      0.05       0.0   \n10804  Simulation                Ubisoft      0.08      0.01       0.0   \n10610      Sports        Electronic Arts      0.08      0.01       0.0   \n10173      Action             Activision      0.08      0.03       0.0   \n4069    Adventure                Ubisoft      0.08      0.35       0.0   \n11205        Misc                Ubisoft      0.08      0.00       0.0   \n10084      Action                Ubisoft      0.08      0.02       0.0   \n8468       Racing                  Atari      0.08      0.06       0.0   \n10042     Shooter                Ubisoft      0.08      0.03       0.0   \n\n       Other_Sales  Global_Sales  \n10542         0.00          0.10  \n9308          0.01          0.14  \n10804         0.01          0.10  \n10610         0.01          0.10  \n10173         0.00          0.11  \n4069          0.06          0.49  \n11205         0.01          0.09  \n10084         0.00          0.11  \n8468          0.02          0.16  \n10042         0.00          0.11  ",
      "text/html": "<div>\n<style scoped>\n    .dataframe tbody tr th:only-of-type {\n        vertical-align: middle;\n    }\n\n    .dataframe tbody tr th {\n        vertical-align: top;\n    }\n\n    .dataframe thead th {\n        text-align: right;\n    }\n</style>\n<table border=\"1\" class=\"dataframe\">\n  <thead>\n    <tr style=\"text-align: right;\">\n      <th></th>\n      <th>Rank</th>\n      <th>Name</th>\n      <th>Platform</th>\n      <th>Year</th>\n      <th>Genre</th>\n      <th>Publisher</th>\n      <th>NA_Sales</th>\n      <th>EU_Sales</th>\n      <th>JP_Sales</th>\n      <th>Other_Sales</th>\n      <th>Global_Sales</th>\n    </tr>\n  </thead>\n  <tbody>\n    <tr>\n      <th>10542</th>\n      <td>10544</td>\n      <td>Capcom vs. SNK 2 EO</td>\n      <td>XB</td>\n      <td>2003.0</td>\n      <td>Fighting</td>\n      <td>Capcom</td>\n      <td>0.08</td>\n      <td>0.02</td>\n      <td>0.0</td>\n      <td>0.00</td>\n      <td>0.10</td>\n    </tr>\n    <tr>\n      <th>9308</th>\n      <td>9310</td>\n      <td>Mary-Kate and Ashley: Crush Course</td>\n      <td>PS</td>\n      <td>2001.0</td>\n      <td>Action</td>\n      <td>Acclaim Entertainment</td>\n      <td>0.08</td>\n      <td>0.05</td>\n      <td>0.0</td>\n      <td>0.01</td>\n      <td>0.14</td>\n    </tr>\n    <tr>\n      <th>10804</th>\n      <td>10806</td>\n      <td>Imagine: Reporter</td>\n      <td>DS</td>\n      <td>2010.0</td>\n      <td>Simulation</td>\n      <td>Ubisoft</td>\n      <td>0.08</td>\n      <td>0.01</td>\n      <td>0.0</td>\n      <td>0.01</td>\n      <td>0.10</td>\n    </tr>\n    <tr>\n      <th>10610</th>\n      <td>10612</td>\n      <td>NBA Live 16</td>\n      <td>XOne</td>\n      <td>2015.0</td>\n      <td>Sports</td>\n      <td>Electronic Arts</td>\n      <td>0.08</td>\n      <td>0.01</td>\n      <td>0.0</td>\n      <td>0.01</td>\n      <td>0.10</td>\n    </tr>\n    <tr>\n      <th>10173</th>\n      <td>10175</td>\n      <td>XXX</td>\n      <td>GBA</td>\n      <td>2002.0</td>\n      <td>Action</td>\n      <td>Activision</td>\n      <td>0.08</td>\n      <td>0.03</td>\n      <td>0.0</td>\n      <td>0.00</td>\n      <td>0.11</td>\n    </tr>\n    <tr>\n      <th>4069</th>\n      <td>4071</td>\n      <td>Jake Power: Fireman</td>\n      <td>DS</td>\n      <td>2008.0</td>\n      <td>Adventure</td>\n      <td>Ubisoft</td>\n      <td>0.08</td>\n      <td>0.35</td>\n      <td>0.0</td>\n      <td>0.06</td>\n      <td>0.49</td>\n    </tr>\n    <tr>\n      <th>11205</th>\n      <td>11207</td>\n      <td>Midnight Play! Pack</td>\n      <td>DS</td>\n      <td>2008.0</td>\n      <td>Misc</td>\n      <td>Ubisoft</td>\n      <td>0.08</td>\n      <td>0.00</td>\n      <td>0.0</td>\n      <td>0.01</td>\n      <td>0.09</td>\n    </tr>\n    <tr>\n      <th>10084</th>\n      <td>10086</td>\n      <td>Batman: Rise of Sin Tzu</td>\n      <td>XB</td>\n      <td>2003.0</td>\n      <td>Action</td>\n      <td>Ubisoft</td>\n      <td>0.08</td>\n      <td>0.02</td>\n      <td>0.0</td>\n      <td>0.00</td>\n      <td>0.11</td>\n    </tr>\n    <tr>\n      <th>8468</th>\n      <td>8470</td>\n      <td>Vehicular Combat League presents Motor Mayhem</td>\n      <td>PS2</td>\n      <td>2001.0</td>\n      <td>Racing</td>\n      <td>Atari</td>\n      <td>0.08</td>\n      <td>0.06</td>\n      <td>0.0</td>\n      <td>0.02</td>\n      <td>0.16</td>\n    </tr>\n    <tr>\n      <th>10042</th>\n      <td>10044</td>\n      <td>Tom Clancy's Rainbow Six: Rogue Spear</td>\n      <td>GBA</td>\n      <td>2002.0</td>\n      <td>Shooter</td>\n      <td>Ubisoft</td>\n      <td>0.08</td>\n      <td>0.03</td>\n      <td>0.0</td>\n      <td>0.00</td>\n      <td>0.11</td>\n    </tr>\n  </tbody>\n</table>\n</div>"
     },
     "metadata": {},
     "execution_count": 63
    }
   ],
   "source": [
    "df[ df['NA_Sales'] == median ].sample(10)"
   ]
  },
  {
   "cell_type": "markdown",
   "metadata": {},
   "source": [
    "### For the top-selling game of all time, how many standard deviations above/below the mean are its sales for North America?"
   ]
  },
  {
   "cell_type": "code",
   "execution_count": 14,
   "metadata": {},
   "outputs": [
    {
     "output_type": "execute_result",
     "data": {
      "text/plain": "0.26466742981082064"
     },
     "metadata": {},
     "execution_count": 14
    }
   ],
   "source": [
    "na_mean = df['NA_Sales'].mean()\n",
    "na_mean"
   ]
  },
  {
   "cell_type": "code",
   "execution_count": 12,
   "metadata": {},
   "outputs": [
    {
     "output_type": "execute_result",
     "data": {
      "text/plain": "41.49"
     },
     "metadata": {},
     "execution_count": 12
    }
   ],
   "source": [
    "global_top = df['NA_Sales'].iloc[0]\n",
    "global_top"
   ]
  },
  {
   "cell_type": "code",
   "execution_count": 6,
   "metadata": {},
   "outputs": [
    {
     "output_type": "execute_result",
     "data": {
      "text/plain": "0.8166830292988796"
     },
     "metadata": {},
     "execution_count": 6
    }
   ],
   "source": [
    "na_std = df['NA_Sales'].std()\n",
    "na_std"
   ]
  },
  {
   "cell_type": "code",
   "execution_count": 15,
   "metadata": {},
   "outputs": [
    {
     "output_type": "execute_result",
     "data": {
      "text/plain": "41.22533257018918"
     },
     "metadata": {},
     "execution_count": 15
    }
   ],
   "source": [
    "distance = global_top - na_mean\n",
    "distance"
   ]
  },
  {
   "cell_type": "code",
   "execution_count": 16,
   "metadata": {},
   "outputs": [
    {
     "output_type": "execute_result",
     "data": {
      "text/plain": "50.47898767479108"
     },
     "metadata": {},
     "execution_count": 16
    }
   ],
   "source": [
    "deviations_from_mean = distance / na_std\n",
    "deviations_from_mean"
   ]
  },
  {
   "cell_type": "markdown",
   "metadata": {},
   "source": [
    "### The Nintendo Wii seems to have outdone itself with games. How does its average number of sales compare with all of the other platforms?"
   ]
  },
  {
   "cell_type": "code",
   "execution_count": 80,
   "metadata": {},
   "outputs": [
    {
     "output_type": "execute_result",
     "data": {
      "text/plain": "        Rank                                               Name Platform  \\\n0          1                                         Wii Sports      Wii   \n2          3                                     Mario Kart Wii      Wii   \n3          4                                  Wii Sports Resort      Wii   \n7          8                                           Wii Play      Wii   \n8          9                          New Super Mario Bros. Wii      Wii   \n...      ...                                                ...      ...   \n16517  16520                       Teenage Mutant Ninja Turtles      Wii   \n16552  16555           Mahou Sensei Negima!? Neo-Pactio Fight!!      Wii   \n16573  16576                                Mini Desktop Racing      Wii   \n16574  16577  Yattaman Wii: BikkuriDokkiri Machine de Mou Ra...      Wii   \n16581  16584                                          Fit & Fun      Wii   \n\n         Year     Genre                     Publisher  NA_Sales  EU_Sales  \\\n0      2006.0    Sports                      Nintendo     41.49     29.02   \n2      2008.0    Racing                      Nintendo     15.85     12.88   \n3      2009.0    Sports                      Nintendo     15.75     11.01   \n7      2006.0      Misc                      Nintendo     14.03      9.20   \n8      2009.0  Platform                      Nintendo     14.59      7.06   \n...       ...       ...                           ...       ...       ...   \n16517  2007.0    Action  Konami Digital Entertainment      0.00      0.01   \n16552  2007.0  Fighting         Marvelous Interactive      0.00      0.00   \n16573  2007.0    Racing                Popcorn Arcade      0.01      0.00   \n16574  2008.0    Racing                   Takara Tomy      0.00      0.00   \n16581  2011.0    Sports                       Unknown      0.00      0.01   \n\n       JP_Sales  Other_Sales  Global_Sales  \n0          3.77         8.46         82.74  \n2          3.79         3.31         35.82  \n3          3.28         2.96         33.00  \n7          2.93         2.85         29.02  \n8          4.70         2.26         28.62  \n...         ...          ...           ...  \n16517      0.00         0.00          0.01  \n16552      0.01         0.00          0.01  \n16573      0.00         0.00          0.01  \n16574      0.01         0.00          0.01  \n16581      0.00         0.00          0.01  \n\n[1325 rows x 11 columns]",
      "text/html": "<div>\n<style scoped>\n    .dataframe tbody tr th:only-of-type {\n        vertical-align: middle;\n    }\n\n    .dataframe tbody tr th {\n        vertical-align: top;\n    }\n\n    .dataframe thead th {\n        text-align: right;\n    }\n</style>\n<table border=\"1\" class=\"dataframe\">\n  <thead>\n    <tr style=\"text-align: right;\">\n      <th></th>\n      <th>Rank</th>\n      <th>Name</th>\n      <th>Platform</th>\n      <th>Year</th>\n      <th>Genre</th>\n      <th>Publisher</th>\n      <th>NA_Sales</th>\n      <th>EU_Sales</th>\n      <th>JP_Sales</th>\n      <th>Other_Sales</th>\n      <th>Global_Sales</th>\n    </tr>\n  </thead>\n  <tbody>\n    <tr>\n      <th>0</th>\n      <td>1</td>\n      <td>Wii Sports</td>\n      <td>Wii</td>\n      <td>2006.0</td>\n      <td>Sports</td>\n      <td>Nintendo</td>\n      <td>41.49</td>\n      <td>29.02</td>\n      <td>3.77</td>\n      <td>8.46</td>\n      <td>82.74</td>\n    </tr>\n    <tr>\n      <th>2</th>\n      <td>3</td>\n      <td>Mario Kart Wii</td>\n      <td>Wii</td>\n      <td>2008.0</td>\n      <td>Racing</td>\n      <td>Nintendo</td>\n      <td>15.85</td>\n      <td>12.88</td>\n      <td>3.79</td>\n      <td>3.31</td>\n      <td>35.82</td>\n    </tr>\n    <tr>\n      <th>3</th>\n      <td>4</td>\n      <td>Wii Sports Resort</td>\n      <td>Wii</td>\n      <td>2009.0</td>\n      <td>Sports</td>\n      <td>Nintendo</td>\n      <td>15.75</td>\n      <td>11.01</td>\n      <td>3.28</td>\n      <td>2.96</td>\n      <td>33.00</td>\n    </tr>\n    <tr>\n      <th>7</th>\n      <td>8</td>\n      <td>Wii Play</td>\n      <td>Wii</td>\n      <td>2006.0</td>\n      <td>Misc</td>\n      <td>Nintendo</td>\n      <td>14.03</td>\n      <td>9.20</td>\n      <td>2.93</td>\n      <td>2.85</td>\n      <td>29.02</td>\n    </tr>\n    <tr>\n      <th>8</th>\n      <td>9</td>\n      <td>New Super Mario Bros. Wii</td>\n      <td>Wii</td>\n      <td>2009.0</td>\n      <td>Platform</td>\n      <td>Nintendo</td>\n      <td>14.59</td>\n      <td>7.06</td>\n      <td>4.70</td>\n      <td>2.26</td>\n      <td>28.62</td>\n    </tr>\n    <tr>\n      <th>...</th>\n      <td>...</td>\n      <td>...</td>\n      <td>...</td>\n      <td>...</td>\n      <td>...</td>\n      <td>...</td>\n      <td>...</td>\n      <td>...</td>\n      <td>...</td>\n      <td>...</td>\n      <td>...</td>\n    </tr>\n    <tr>\n      <th>16517</th>\n      <td>16520</td>\n      <td>Teenage Mutant Ninja Turtles</td>\n      <td>Wii</td>\n      <td>2007.0</td>\n      <td>Action</td>\n      <td>Konami Digital Entertainment</td>\n      <td>0.00</td>\n      <td>0.01</td>\n      <td>0.00</td>\n      <td>0.00</td>\n      <td>0.01</td>\n    </tr>\n    <tr>\n      <th>16552</th>\n      <td>16555</td>\n      <td>Mahou Sensei Negima!? Neo-Pactio Fight!!</td>\n      <td>Wii</td>\n      <td>2007.0</td>\n      <td>Fighting</td>\n      <td>Marvelous Interactive</td>\n      <td>0.00</td>\n      <td>0.00</td>\n      <td>0.01</td>\n      <td>0.00</td>\n      <td>0.01</td>\n    </tr>\n    <tr>\n      <th>16573</th>\n      <td>16576</td>\n      <td>Mini Desktop Racing</td>\n      <td>Wii</td>\n      <td>2007.0</td>\n      <td>Racing</td>\n      <td>Popcorn Arcade</td>\n      <td>0.01</td>\n      <td>0.00</td>\n      <td>0.00</td>\n      <td>0.00</td>\n      <td>0.01</td>\n    </tr>\n    <tr>\n      <th>16574</th>\n      <td>16577</td>\n      <td>Yattaman Wii: BikkuriDokkiri Machine de Mou Ra...</td>\n      <td>Wii</td>\n      <td>2008.0</td>\n      <td>Racing</td>\n      <td>Takara Tomy</td>\n      <td>0.00</td>\n      <td>0.00</td>\n      <td>0.01</td>\n      <td>0.00</td>\n      <td>0.01</td>\n    </tr>\n    <tr>\n      <th>16581</th>\n      <td>16584</td>\n      <td>Fit &amp; Fun</td>\n      <td>Wii</td>\n      <td>2011.0</td>\n      <td>Sports</td>\n      <td>Unknown</td>\n      <td>0.00</td>\n      <td>0.01</td>\n      <td>0.00</td>\n      <td>0.00</td>\n      <td>0.01</td>\n    </tr>\n  </tbody>\n</table>\n<p>1325 rows × 11 columns</p>\n</div>"
     },
     "metadata": {},
     "execution_count": 80
    }
   ],
   "source": [
    "wii = df[df['Platform'] == 'Wii']\n",
    "wii"
   ]
  },
  {
   "cell_type": "code",
   "execution_count": 81,
   "metadata": {},
   "outputs": [
    {
     "output_type": "execute_result",
     "data": {
      "text/plain": "0.6994037735849057"
     },
     "metadata": {},
     "execution_count": 81
    }
   ],
   "source": [
    "wii_mean = wii['Global_Sales'].mean()\n",
    "wii_mean"
   ]
  },
  {
   "cell_type": "code",
   "execution_count": 82,
   "metadata": {},
   "outputs": [
    {
     "output_type": "execute_result",
     "data": {
      "text/plain": "0.5374406555006628"
     },
     "metadata": {},
     "execution_count": 82
    }
   ],
   "source": [
    "df_mean = df['Global_Sales'].mean()\n",
    "df_mean"
   ]
  },
  {
   "cell_type": "markdown",
   "metadata": {},
   "source": [
    "it bigger than all platform so the defferance is"
   ]
  },
  {
   "cell_type": "code",
   "execution_count": 84,
   "metadata": {},
   "outputs": [
    {
     "output_type": "execute_result",
     "data": {
      "text/plain": "0.1619631180842429"
     },
     "metadata": {},
     "execution_count": 84
    }
   ],
   "source": [
    "wii_mean - df_mean"
   ]
  },
  {
   "cell_type": "markdown",
   "metadata": {},
   "source": [
    "### display the top shooter game in rank ?"
   ]
  },
  {
   "cell_type": "code",
   "execution_count": 86,
   "metadata": {},
   "outputs": [
    {
     "output_type": "execute_result",
     "data": {
      "text/plain": "    Rank                            Name Platform    Year    Genre  \\\n9     10                       Duck Hunt      NES  1984.0  Shooter   \n29    30  Call of Duty: Modern Warfare 3     X360  2011.0  Shooter   \n31    32         Call of Duty: Black Ops     X360  2010.0  Shooter   \n33    34       Call of Duty: Black Ops 3      PS4  2015.0  Shooter   \n34    35      Call of Duty: Black Ops II      PS3  2012.0  Shooter   \n35    36      Call of Duty: Black Ops II     X360  2012.0  Shooter   \n36    37  Call of Duty: Modern Warfare 2     X360  2009.0  Shooter   \n37    38  Call of Duty: Modern Warfare 3      PS3  2011.0  Shooter   \n40    41         Call of Duty: Black Ops      PS3  2010.0  Shooter   \n43    44                          Halo 3     X360  2007.0  Shooter   \n\n                 Publisher  NA_Sales  EU_Sales  JP_Sales  Other_Sales  \\\n9                 Nintendo     26.93      0.63      0.28         0.47   \n29              Activision      9.03      4.28      0.13         1.32   \n31              Activision      9.67      3.73      0.11         1.13   \n33              Activision      5.77      5.81      0.35         2.31   \n34              Activision      4.99      5.88      0.65         2.52   \n35              Activision      8.25      4.30      0.07         1.12   \n36              Activision      8.52      3.63      0.08         1.29   \n37              Activision      5.54      5.82      0.49         1.62   \n40              Activision      5.98      4.44      0.48         1.83   \n43  Microsoft Game Studios      7.97      2.83      0.13         1.21   \n\n    Global_Sales  \n9          28.31  \n29         14.76  \n31         14.64  \n33         14.24  \n34         14.03  \n35         13.73  \n36         13.51  \n37         13.46  \n40         12.73  \n43         12.14  ",
      "text/html": "<div>\n<style scoped>\n    .dataframe tbody tr th:only-of-type {\n        vertical-align: middle;\n    }\n\n    .dataframe tbody tr th {\n        vertical-align: top;\n    }\n\n    .dataframe thead th {\n        text-align: right;\n    }\n</style>\n<table border=\"1\" class=\"dataframe\">\n  <thead>\n    <tr style=\"text-align: right;\">\n      <th></th>\n      <th>Rank</th>\n      <th>Name</th>\n      <th>Platform</th>\n      <th>Year</th>\n      <th>Genre</th>\n      <th>Publisher</th>\n      <th>NA_Sales</th>\n      <th>EU_Sales</th>\n      <th>JP_Sales</th>\n      <th>Other_Sales</th>\n      <th>Global_Sales</th>\n    </tr>\n  </thead>\n  <tbody>\n    <tr>\n      <th>9</th>\n      <td>10</td>\n      <td>Duck Hunt</td>\n      <td>NES</td>\n      <td>1984.0</td>\n      <td>Shooter</td>\n      <td>Nintendo</td>\n      <td>26.93</td>\n      <td>0.63</td>\n      <td>0.28</td>\n      <td>0.47</td>\n      <td>28.31</td>\n    </tr>\n    <tr>\n      <th>29</th>\n      <td>30</td>\n      <td>Call of Duty: Modern Warfare 3</td>\n      <td>X360</td>\n      <td>2011.0</td>\n      <td>Shooter</td>\n      <td>Activision</td>\n      <td>9.03</td>\n      <td>4.28</td>\n      <td>0.13</td>\n      <td>1.32</td>\n      <td>14.76</td>\n    </tr>\n    <tr>\n      <th>31</th>\n      <td>32</td>\n      <td>Call of Duty: Black Ops</td>\n      <td>X360</td>\n      <td>2010.0</td>\n      <td>Shooter</td>\n      <td>Activision</td>\n      <td>9.67</td>\n      <td>3.73</td>\n      <td>0.11</td>\n      <td>1.13</td>\n      <td>14.64</td>\n    </tr>\n    <tr>\n      <th>33</th>\n      <td>34</td>\n      <td>Call of Duty: Black Ops 3</td>\n      <td>PS4</td>\n      <td>2015.0</td>\n      <td>Shooter</td>\n      <td>Activision</td>\n      <td>5.77</td>\n      <td>5.81</td>\n      <td>0.35</td>\n      <td>2.31</td>\n      <td>14.24</td>\n    </tr>\n    <tr>\n      <th>34</th>\n      <td>35</td>\n      <td>Call of Duty: Black Ops II</td>\n      <td>PS3</td>\n      <td>2012.0</td>\n      <td>Shooter</td>\n      <td>Activision</td>\n      <td>4.99</td>\n      <td>5.88</td>\n      <td>0.65</td>\n      <td>2.52</td>\n      <td>14.03</td>\n    </tr>\n    <tr>\n      <th>35</th>\n      <td>36</td>\n      <td>Call of Duty: Black Ops II</td>\n      <td>X360</td>\n      <td>2012.0</td>\n      <td>Shooter</td>\n      <td>Activision</td>\n      <td>8.25</td>\n      <td>4.30</td>\n      <td>0.07</td>\n      <td>1.12</td>\n      <td>13.73</td>\n    </tr>\n    <tr>\n      <th>36</th>\n      <td>37</td>\n      <td>Call of Duty: Modern Warfare 2</td>\n      <td>X360</td>\n      <td>2009.0</td>\n      <td>Shooter</td>\n      <td>Activision</td>\n      <td>8.52</td>\n      <td>3.63</td>\n      <td>0.08</td>\n      <td>1.29</td>\n      <td>13.51</td>\n    </tr>\n    <tr>\n      <th>37</th>\n      <td>38</td>\n      <td>Call of Duty: Modern Warfare 3</td>\n      <td>PS3</td>\n      <td>2011.0</td>\n      <td>Shooter</td>\n      <td>Activision</td>\n      <td>5.54</td>\n      <td>5.82</td>\n      <td>0.49</td>\n      <td>1.62</td>\n      <td>13.46</td>\n    </tr>\n    <tr>\n      <th>40</th>\n      <td>41</td>\n      <td>Call of Duty: Black Ops</td>\n      <td>PS3</td>\n      <td>2010.0</td>\n      <td>Shooter</td>\n      <td>Activision</td>\n      <td>5.98</td>\n      <td>4.44</td>\n      <td>0.48</td>\n      <td>1.83</td>\n      <td>12.73</td>\n    </tr>\n    <tr>\n      <th>43</th>\n      <td>44</td>\n      <td>Halo 3</td>\n      <td>X360</td>\n      <td>2007.0</td>\n      <td>Shooter</td>\n      <td>Microsoft Game Studios</td>\n      <td>7.97</td>\n      <td>2.83</td>\n      <td>0.13</td>\n      <td>1.21</td>\n      <td>12.14</td>\n    </tr>\n  </tbody>\n</table>\n</div>"
     },
     "metadata": {},
     "execution_count": 86
    }
   ],
   "source": [
    "shooter = df[df['Genre']=='Shooter'].head(10)\n",
    "shooter"
   ]
  },
  {
   "cell_type": "markdown",
   "metadata": {},
   "source": [
    "### Display 10 newest games ?"
   ]
  },
  {
   "cell_type": "code",
   "execution_count": 89,
   "metadata": {},
   "outputs": [
    {
     "output_type": "execute_result",
     "data": {
      "text/plain": "        Rank                                              Name Platform  \\\n5957    5959                            Imagine: Makeup Artist       DS   \n14390  14393  Phantasy Star Online 2 Episode 4: Deluxe Package      PS4   \n16241  16244  Phantasy Star Online 2 Episode 4: Deluxe Package      PSV   \n16438  16441                  Brothers Conflict: Precious Baby      PSV   \n8293    8295                      Shin Megami Tensei IV: Final      3DS   \n13647  13649                                     Hitman (2016)      PS4   \n13596  13598      Card Fight!! Vanguard G: Stride to Victory!!      3DS   \n13602  13604        Refrain no Chika Meikyuu to Majo no Ryodan      PSV   \n13614  13616                  Utawarerumono: Futari no Hakuoro      PS4   \n13620  13622                 Kamen Rider: Battride War Genesis      PS3   \n\n         Year         Genre             Publisher  NA_Sales  EU_Sales  \\\n5957   2020.0    Simulation               Ubisoft      0.27      0.00   \n14390  2017.0  Role-Playing                  Sega      0.00      0.00   \n16241  2017.0  Role-Playing                  Sega      0.00      0.00   \n16438  2017.0        Action          Idea Factory      0.00      0.00   \n8293   2016.0  Role-Playing           Deep Silver      0.03      0.00   \n13647  2016.0        Action           Square Enix      0.00      0.04   \n13596  2016.0          Misc                 FuRyu      0.00      0.00   \n13602  2016.0        Action  Nippon Ichi Software      0.00      0.00   \n13614  2016.0          Misc             Aqua Plus      0.00      0.00   \n13620  2016.0        Action    Namco Bandai Games      0.00      0.00   \n\n       JP_Sales  Other_Sales  Global_Sales  \n5957       0.00         0.02          0.29  \n14390      0.03         0.00          0.03  \n16241      0.01         0.00          0.01  \n16438      0.01         0.00          0.01  \n8293       0.14         0.00          0.17  \n13647      0.00         0.01          0.04  \n13596      0.04         0.00          0.04  \n13602      0.04         0.00          0.04  \n13614      0.04         0.00          0.04  \n13620      0.04         0.00          0.04  ",
      "text/html": "<div>\n<style scoped>\n    .dataframe tbody tr th:only-of-type {\n        vertical-align: middle;\n    }\n\n    .dataframe tbody tr th {\n        vertical-align: top;\n    }\n\n    .dataframe thead th {\n        text-align: right;\n    }\n</style>\n<table border=\"1\" class=\"dataframe\">\n  <thead>\n    <tr style=\"text-align: right;\">\n      <th></th>\n      <th>Rank</th>\n      <th>Name</th>\n      <th>Platform</th>\n      <th>Year</th>\n      <th>Genre</th>\n      <th>Publisher</th>\n      <th>NA_Sales</th>\n      <th>EU_Sales</th>\n      <th>JP_Sales</th>\n      <th>Other_Sales</th>\n      <th>Global_Sales</th>\n    </tr>\n  </thead>\n  <tbody>\n    <tr>\n      <th>5957</th>\n      <td>5959</td>\n      <td>Imagine: Makeup Artist</td>\n      <td>DS</td>\n      <td>2020.0</td>\n      <td>Simulation</td>\n      <td>Ubisoft</td>\n      <td>0.27</td>\n      <td>0.00</td>\n      <td>0.00</td>\n      <td>0.02</td>\n      <td>0.29</td>\n    </tr>\n    <tr>\n      <th>14390</th>\n      <td>14393</td>\n      <td>Phantasy Star Online 2 Episode 4: Deluxe Package</td>\n      <td>PS4</td>\n      <td>2017.0</td>\n      <td>Role-Playing</td>\n      <td>Sega</td>\n      <td>0.00</td>\n      <td>0.00</td>\n      <td>0.03</td>\n      <td>0.00</td>\n      <td>0.03</td>\n    </tr>\n    <tr>\n      <th>16241</th>\n      <td>16244</td>\n      <td>Phantasy Star Online 2 Episode 4: Deluxe Package</td>\n      <td>PSV</td>\n      <td>2017.0</td>\n      <td>Role-Playing</td>\n      <td>Sega</td>\n      <td>0.00</td>\n      <td>0.00</td>\n      <td>0.01</td>\n      <td>0.00</td>\n      <td>0.01</td>\n    </tr>\n    <tr>\n      <th>16438</th>\n      <td>16441</td>\n      <td>Brothers Conflict: Precious Baby</td>\n      <td>PSV</td>\n      <td>2017.0</td>\n      <td>Action</td>\n      <td>Idea Factory</td>\n      <td>0.00</td>\n      <td>0.00</td>\n      <td>0.01</td>\n      <td>0.00</td>\n      <td>0.01</td>\n    </tr>\n    <tr>\n      <th>8293</th>\n      <td>8295</td>\n      <td>Shin Megami Tensei IV: Final</td>\n      <td>3DS</td>\n      <td>2016.0</td>\n      <td>Role-Playing</td>\n      <td>Deep Silver</td>\n      <td>0.03</td>\n      <td>0.00</td>\n      <td>0.14</td>\n      <td>0.00</td>\n      <td>0.17</td>\n    </tr>\n    <tr>\n      <th>13647</th>\n      <td>13649</td>\n      <td>Hitman (2016)</td>\n      <td>PS4</td>\n      <td>2016.0</td>\n      <td>Action</td>\n      <td>Square Enix</td>\n      <td>0.00</td>\n      <td>0.04</td>\n      <td>0.00</td>\n      <td>0.01</td>\n      <td>0.04</td>\n    </tr>\n    <tr>\n      <th>13596</th>\n      <td>13598</td>\n      <td>Card Fight!! Vanguard G: Stride to Victory!!</td>\n      <td>3DS</td>\n      <td>2016.0</td>\n      <td>Misc</td>\n      <td>FuRyu</td>\n      <td>0.00</td>\n      <td>0.00</td>\n      <td>0.04</td>\n      <td>0.00</td>\n      <td>0.04</td>\n    </tr>\n    <tr>\n      <th>13602</th>\n      <td>13604</td>\n      <td>Refrain no Chika Meikyuu to Majo no Ryodan</td>\n      <td>PSV</td>\n      <td>2016.0</td>\n      <td>Action</td>\n      <td>Nippon Ichi Software</td>\n      <td>0.00</td>\n      <td>0.00</td>\n      <td>0.04</td>\n      <td>0.00</td>\n      <td>0.04</td>\n    </tr>\n    <tr>\n      <th>13614</th>\n      <td>13616</td>\n      <td>Utawarerumono: Futari no Hakuoro</td>\n      <td>PS4</td>\n      <td>2016.0</td>\n      <td>Misc</td>\n      <td>Aqua Plus</td>\n      <td>0.00</td>\n      <td>0.00</td>\n      <td>0.04</td>\n      <td>0.00</td>\n      <td>0.04</td>\n    </tr>\n    <tr>\n      <th>13620</th>\n      <td>13622</td>\n      <td>Kamen Rider: Battride War Genesis</td>\n      <td>PS3</td>\n      <td>2016.0</td>\n      <td>Action</td>\n      <td>Namco Bandai Games</td>\n      <td>0.00</td>\n      <td>0.00</td>\n      <td>0.04</td>\n      <td>0.00</td>\n      <td>0.04</td>\n    </tr>\n  </tbody>\n</table>\n</div>"
     },
     "metadata": {},
     "execution_count": 89
    }
   ],
   "source": [
    "df.sort_values('Year',ascending=False).head(10)"
   ]
  },
  {
   "cell_type": "markdown",
   "metadata": {},
   "source": [
    "### How many Atari games ?"
   ]
  },
  {
   "cell_type": "code",
   "execution_count": 92,
   "metadata": {},
   "outputs": [
    {
     "output_type": "execute_result",
     "data": {
      "text/plain": "363"
     },
     "metadata": {},
     "execution_count": 92
    }
   ],
   "source": [
    "df[df['Publisher']=='Atari'].shape[0]"
   ]
  },
  {
   "cell_type": "code",
   "execution_count": null,
   "metadata": {},
   "outputs": [],
   "source": []
  }
 ]
}